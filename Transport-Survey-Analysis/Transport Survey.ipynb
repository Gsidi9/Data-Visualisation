{
 "cells": [
  {
   "cell_type": "markdown",
   "metadata": {},
   "source": [
    "Most common mode of transport taken to university\n",
    " number of journeys taken each week\n",
    "Distribution of journey time to university each week"
   ]
  },
  {
   "cell_type": "code",
   "execution_count": 2,
   "metadata": {},
   "outputs": [],
   "source": [
    "%matplotlib inline"
   ]
  },
  {
   "cell_type": "code",
   "execution_count": 3,
   "metadata": {},
   "outputs": [],
   "source": [
    "import numpy as np\n",
    "import pandas as pd\n",
    "import matplotlib as mpl\n",
    "import matplotlib.pyplot as plt\n"
   ]
  },
  {
   "cell_type": "markdown",
   "metadata": {},
   "source": [
    "# Reading the data"
   ]
  },
  {
   "cell_type": "code",
   "execution_count": 4,
   "metadata": {},
   "outputs": [
    {
     "data": {
      "text/html": [
       "<div>\n",
       "<style scoped>\n",
       "    .dataframe tbody tr th:only-of-type {\n",
       "        vertical-align: middle;\n",
       "    }\n",
       "\n",
       "    .dataframe tbody tr th {\n",
       "        vertical-align: top;\n",
       "    }\n",
       "\n",
       "    .dataframe thead th {\n",
       "        text-align: right;\n",
       "    }\n",
       "</style>\n",
       "<table border=\"1\" class=\"dataframe\">\n",
       "  <thead>\n",
       "    <tr style=\"text-align: right;\">\n",
       "      <th></th>\n",
       "      <th>gender</th>\n",
       "      <th>transport</th>\n",
       "      <th>num_journeys</th>\n",
       "      <th>journey_time</th>\n",
       "      <th>enjoyment</th>\n",
       "    </tr>\n",
       "  </thead>\n",
       "  <tbody>\n",
       "    <tr>\n",
       "      <td>0</td>\n",
       "      <td>male</td>\n",
       "      <td>bus</td>\n",
       "      <td>1</td>\n",
       "      <td>23.0</td>\n",
       "      <td>agree</td>\n",
       "    </tr>\n",
       "    <tr>\n",
       "      <td>1</td>\n",
       "      <td>male</td>\n",
       "      <td>bus</td>\n",
       "      <td>3</td>\n",
       "      <td>19.0</td>\n",
       "      <td>agree</td>\n",
       "    </tr>\n",
       "    <tr>\n",
       "      <td>2</td>\n",
       "      <td>male</td>\n",
       "      <td>bus</td>\n",
       "      <td>2</td>\n",
       "      <td>19.0</td>\n",
       "      <td>disagree</td>\n",
       "    </tr>\n",
       "    <tr>\n",
       "      <td>3</td>\n",
       "      <td>female</td>\n",
       "      <td>bus</td>\n",
       "      <td>5</td>\n",
       "      <td>19.0</td>\n",
       "      <td>agree</td>\n",
       "    </tr>\n",
       "    <tr>\n",
       "      <td>4</td>\n",
       "      <td>female</td>\n",
       "      <td>bus</td>\n",
       "      <td>4</td>\n",
       "      <td>25.0</td>\n",
       "      <td>disagree</td>\n",
       "    </tr>\n",
       "  </tbody>\n",
       "</table>\n",
       "</div>"
      ],
      "text/plain": [
       "   gender transport  num_journeys  journey_time enjoyment\n",
       "0    male       bus             1          23.0     agree\n",
       "1    male       bus             3          19.0     agree\n",
       "2    male       bus             2          19.0  disagree\n",
       "3  female       bus             5          19.0     agree\n",
       "4  female       bus             4          25.0  disagree"
      ]
     },
     "execution_count": 4,
     "metadata": {},
     "output_type": "execute_result"
    }
   ],
   "source": [
    "df = pd.read_csv('/Users/goundosidibe/Downloads/topic4-descriptive-stats1/transport-survey.csv', \n",
    "                 index_col = 0)\n",
    "\n",
    "\n",
    "#assigning the index column and the correct data types\n",
    "df['gender' ]= df['gender'].astype('category')\n",
    "df['transport' ]= df['transport'].astype('category')\n",
    "\n",
    "enjoyment_ordered = ['strongly disagree','disagree','neutral','agree','strongly agree']\n",
    "\n",
    "df['enjoyment' ]= df['enjoyment'].astype(pd.CategoricalDtype(ordered=True, categories = enjoyment_ordered))\n",
    "\n",
    "df.head()"
   ]
  },
  {
   "cell_type": "code",
   "execution_count": 6,
   "metadata": {},
   "outputs": [
    {
     "data": {
      "text/plain": [
       "(200, 5)"
      ]
     },
     "execution_count": 6,
     "metadata": {},
     "output_type": "execute_result"
    }
   ],
   "source": [
    "df.shape"
   ]
  },
  {
   "cell_type": "code",
   "execution_count": 7,
   "metadata": {},
   "outputs": [
    {
     "data": {
      "text/plain": [
       "CategoricalDtype(categories=['strongly disagree', 'disagree', 'neutral', 'agree',\n",
       "                  'strongly agree'],\n",
       "                 ordered=True)"
      ]
     },
     "execution_count": 7,
     "metadata": {},
     "output_type": "execute_result"
    }
   ],
   "source": [
    "# Check dtype\n",
    "df['enjoyment'].dtype"
   ]
  },
  {
   "cell_type": "markdown",
   "metadata": {},
   "source": [
    "# Missing values"
   ]
  },
  {
   "cell_type": "code",
   "execution_count": 8,
   "metadata": {},
   "outputs": [
    {
     "data": {
      "text/plain": [
       "gender          8\n",
       "transport       0\n",
       "num_journeys    0\n",
       "journey_time    0\n",
       "enjoyment       0\n",
       "dtype: int64"
      ]
     },
     "execution_count": 8,
     "metadata": {},
     "output_type": "execute_result"
    }
   ],
   "source": [
    "# summarising the number of missing values for each variable\n",
    "na_summary = df.isna().sum()\n",
    "na_summary"
   ]
  },
  {
   "cell_type": "markdown",
   "metadata": {},
   "source": [
    "# Summary tables"
   ]
  },
  {
   "cell_type": "code",
   "execution_count": 9,
   "metadata": {},
   "outputs": [
    {
     "data": {
      "text/html": [
       "<div>\n",
       "<style scoped>\n",
       "    .dataframe tbody tr th:only-of-type {\n",
       "        vertical-align: middle;\n",
       "    }\n",
       "\n",
       "    .dataframe tbody tr th {\n",
       "        vertical-align: top;\n",
       "    }\n",
       "\n",
       "    .dataframe thead th {\n",
       "        text-align: right;\n",
       "    }\n",
       "</style>\n",
       "<table border=\"1\" class=\"dataframe\">\n",
       "  <thead>\n",
       "    <tr style=\"text-align: right;\">\n",
       "      <th></th>\n",
       "      <th>gender</th>\n",
       "      <th>transport</th>\n",
       "      <th>enjoyment</th>\n",
       "    </tr>\n",
       "  </thead>\n",
       "  <tbody>\n",
       "    <tr>\n",
       "      <td>count</td>\n",
       "      <td>192</td>\n",
       "      <td>200</td>\n",
       "      <td>200</td>\n",
       "    </tr>\n",
       "    <tr>\n",
       "      <td>unique</td>\n",
       "      <td>4</td>\n",
       "      <td>4</td>\n",
       "      <td>5</td>\n",
       "    </tr>\n",
       "    <tr>\n",
       "      <td>top</td>\n",
       "      <td>female</td>\n",
       "      <td>train</td>\n",
       "      <td>neutral</td>\n",
       "    </tr>\n",
       "    <tr>\n",
       "      <td>freq</td>\n",
       "      <td>102</td>\n",
       "      <td>85</td>\n",
       "      <td>64</td>\n",
       "    </tr>\n",
       "  </tbody>\n",
       "</table>\n",
       "</div>"
      ],
      "text/plain": [
       "        gender transport enjoyment\n",
       "count      192       200       200\n",
       "unique       4         4         5\n",
       "top     female     train   neutral\n",
       "freq       102        85        64"
      ]
     },
     "execution_count": 9,
     "metadata": {},
     "output_type": "execute_result"
    }
   ],
   "source": [
    "# a summary table of the categorical variables in this DataFrame\n",
    "cat_summary = df.describe(include=['category'])\n",
    "cat_summary"
   ]
  },
  {
   "cell_type": "code",
   "execution_count": 10,
   "metadata": {},
   "outputs": [
    {
     "data": {
      "text/html": [
       "<div>\n",
       "<style scoped>\n",
       "    .dataframe tbody tr th:only-of-type {\n",
       "        vertical-align: middle;\n",
       "    }\n",
       "\n",
       "    .dataframe tbody tr th {\n",
       "        vertical-align: top;\n",
       "    }\n",
       "\n",
       "    .dataframe thead th {\n",
       "        text-align: right;\n",
       "    }\n",
       "</style>\n",
       "<table border=\"1\" class=\"dataframe\">\n",
       "  <thead>\n",
       "    <tr style=\"text-align: right;\">\n",
       "      <th></th>\n",
       "      <th>num_journeys</th>\n",
       "      <th>journey_time</th>\n",
       "    </tr>\n",
       "  </thead>\n",
       "  <tbody>\n",
       "    <tr>\n",
       "      <td>count</td>\n",
       "      <td>200.00</td>\n",
       "      <td>200.00</td>\n",
       "    </tr>\n",
       "    <tr>\n",
       "      <td>mean</td>\n",
       "      <td>3.21</td>\n",
       "      <td>28.12</td>\n",
       "    </tr>\n",
       "    <tr>\n",
       "      <td>std</td>\n",
       "      <td>1.38</td>\n",
       "      <td>12.87</td>\n",
       "    </tr>\n",
       "    <tr>\n",
       "      <td>min</td>\n",
       "      <td>1.00</td>\n",
       "      <td>6.00</td>\n",
       "    </tr>\n",
       "    <tr>\n",
       "      <td>25%</td>\n",
       "      <td>2.00</td>\n",
       "      <td>17.00</td>\n",
       "    </tr>\n",
       "    <tr>\n",
       "      <td>50%</td>\n",
       "      <td>3.50</td>\n",
       "      <td>25.00</td>\n",
       "    </tr>\n",
       "    <tr>\n",
       "      <td>75%</td>\n",
       "      <td>4.00</td>\n",
       "      <td>39.00</td>\n",
       "    </tr>\n",
       "    <tr>\n",
       "      <td>max</td>\n",
       "      <td>5.00</td>\n",
       "      <td>57.00</td>\n",
       "    </tr>\n",
       "  </tbody>\n",
       "</table>\n",
       "</div>"
      ],
      "text/plain": [
       "       num_journeys  journey_time\n",
       "count        200.00        200.00\n",
       "mean           3.21         28.12\n",
       "std            1.38         12.87\n",
       "min            1.00          6.00\n",
       "25%            2.00         17.00\n",
       "50%            3.50         25.00\n",
       "75%            4.00         39.00\n",
       "max            5.00         57.00"
      ]
     },
     "execution_count": 10,
     "metadata": {},
     "output_type": "execute_result"
    }
   ],
   "source": [
    "# a summary table of the numerical variables in this DataFrame\n",
    "\n",
    "num_summary = np.round(df.describe(), 2)\n",
    "num_summary"
   ]
  },
  {
   "cell_type": "markdown",
   "metadata": {},
   "source": [
    "# Visualising data"
   ]
  },
  {
   "cell_type": "markdown",
   "metadata": {},
   "source": [
    "## Gender"
   ]
  },
  {
   "cell_type": "code",
   "execution_count": 11,
   "metadata": {},
   "outputs": [
    {
     "data": {
      "image/png": "[encoded data removed]",
      "text/plain": [
       "<Figure size 432x288 with 1 Axes>"
      ]
     },
     "metadata": {
      "needs_background": "light"
     },
     "output_type": "display_data"
    }
   ],
   "source": [
    "# horizontal bar chart of gender frequency counts\n",
    "\n",
    "def plot_gender_barh():\n",
    "   \n",
    "    a = df['gender'].value_counts()\n",
    "    ax = a.plot.barh()\n",
    "    ax.invert_yaxis()\n",
    "    ax.set_title(\"Survey respondents Gender\")\n",
    "    ax.set_ylabel(\"gender\");\n",
    "    ax.set_xlabel(\"frequency\");\n",
    "\n",
    "\n",
    "\n",
    "    return ax\n",
    "\n",
    "\n",
    "\n",
    "gender_barh_ax = plot_gender_barh()\n",
    "plt.show()"
   ]
  },
  {
   "cell_type": "code",
   "execution_count": 12,
   "metadata": {},
   "outputs": [
    {
     "data": {
      "image/png": "[encoded data removed]",
      "text/plain": [
       "<Figure size 432x288 with 1 Axes>"
      ]
     },
     "metadata": {},
     "output_type": "display_data"
    }
   ],
   "source": [
    "def plot_gender_pie():\n",
    "    # YOUR CODE HERE\n",
    "    \n",
    "    a = df['gender'].value_counts()\n",
    "    ax = a.plot.pie(autopct='%1.0f%%',\n",
    "                                 startangle=180,\n",
    "                                 counterclock=False,\n",
    "                                 label='',\n",
    "                                 title='Survey respondents: Gender',\n",
    "                                 table=True)\n",
    "\n",
    "\n",
    "\n",
    "plot_gender_pie()\n",
    "plt.show()\n"
   ]
  },
  {
   "cell_type": "markdown",
   "metadata": {},
   "source": [
    "## Transport"
   ]
  },
  {
   "cell_type": "code",
   "execution_count": 13,
   "metadata": {},
   "outputs": [
    {
     "data": {
      "image/png": "[encoded data removed]",
      "text/plain": [
       "<Figure size 432x288 with 1 Axes>"
      ]
     },
     "metadata": {
      "needs_background": "light"
     },
     "output_type": "display_data"
    }
   ],
   "source": [
    "# Most common mode of transport taken to university\n",
    "\n",
    "def plot_transport_barh():\n",
    "   \n",
    "    a = df['transport'].value_counts()\n",
    "    ax = a.plot.barh()\n",
    "    ax.invert_yaxis()\n",
    "    ax.set_title(\"Most common mode of transport taken to university\")\n",
    "    ax.set_ylabel(\"transport\");\n",
    "    ax.set_xlabel(\"frequency\");\n",
    "\n",
    "    return ax\n",
    "\n",
    "\n",
    "transport_barh_ax = plot_transport_barh()\n",
    "plt.show()"
   ]
  },
  {
   "cell_type": "markdown",
   "metadata": {},
   "source": [
    "## Number of journeys"
   ]
  },
  {
   "cell_type": "code",
   "execution_count": 14,
   "metadata": {},
   "outputs": [
    {
     "data": {
      "image/png": "[encoded data removed]",
      "text/plain": [
       "<Figure size 432x288 with 1 Axes>"
      ]
     },
     "metadata": {
      "needs_background": "light"
     },
     "output_type": "display_data"
    }
   ],
   "source": [
    "def plot_num_journeys_bar():\n",
    "\n",
    "\n",
    "    a = df['num_journeys'].value_counts(sort=False)\n",
    "    ax = a.plot.bar(rot=0)\n",
    "    ax.set_ylabel(\"frequency\")\n",
    "    ax.set_xlabel(\"number of journeys\")\n",
    "    ax.set_title(\"Typical number of journeys taken to university each week\")\n",
    "\n",
    "\n",
    "    return ax\n",
    "\n",
    "\n",
    "\n",
    "num_journeys_bar_ax = plot_num_journeys_bar()\n",
    "plt.show()"
   ]
  },
  {
   "cell_type": "code",
   "execution_count": 15,
   "metadata": {},
   "outputs": [
    {
     "data": {
      "image/png": "[encoded data removed]",
      "text/plain": [
       "<Figure size 432x288 with 1 Axes>"
      ]
     },
     "metadata": {
      "needs_background": "light"
     },
     "output_type": "display_data"
    }
   ],
   "source": [
    "def plot_num_journeys_box():\n",
    "\n",
    "\n",
    "    ax = df['num_journeys'].plot.box()\n",
    "    ax.set_title('Typical number of journeys taken to university each week')\n",
    "    ax.set_ylabel('number of journeys') \n",
    "\n",
    "    return ax\n",
    "\n",
    "\n",
    "num_journeys_box_ax = plot_num_journeys_box()\n",
    "plt.show()"
   ]
  },
  {
   "cell_type": "markdown",
   "metadata": {},
   "source": [
    "## Journey time"
   ]
  },
  {
   "cell_type": "code",
   "execution_count": 16,
   "metadata": {},
   "outputs": [
    {
     "data": {
      "image/png": "[encoded data removed]",
      "text/plain": [
       "<Figure size 432x288 with 1 Axes>"
      ]
     },
     "metadata": {
      "needs_background": "light"
     },
     "output_type": "display_data"
    }
   ],
   "source": [
    "def plot_journey_time_hist():\n",
    "\n",
    "        bin_size = 5\n",
    "        start = round(df['journey_time'].min() / bin_size) * bin_size \n",
    "        end = df['journey_time'].max() + bin_size\n",
    "        bins = np.arange(start, end, bin_size)\n",
    "        ax = df['journey_time'].plot.hist(bins=bins)\n",
    "        ax.set_title('Distribution of journey time to university each week')\n",
    "        ax.set_ylabel('frequency')\n",
    "        ax.set_xlabel('journey time (minutes)')\n",
    "        mode = pd.cut(df['journey_time'], bins).mode()[0] \n",
    "\n",
    "\n",
    "\n",
    "\n",
    "journey_time_hist_ax = plot_journey_time_hist()\n",
    "plt.show()\n"
   ]
  },
  {
   "cell_type": "code",
   "execution_count": null,
   "metadata": {},
   "outputs": [],
   "source": []
  }
 ],
 "metadata": {
  "kernelspec": {
   "display_name": "Python 3",
   "language": "python",
   "name": "python3"
  },
  "language_info": {
   "codemirror_mode": {
    "name": "ipython",
    "version": 3
   },
   "file_extension": ".py",
   "mimetype": "text/x-python",
   "name": "python",
   "nbconvert_exporter": "python",
   "pygments_lexer": "ipython3",
   "version": "3.7.4"
  }
 },
 "nbformat": 4,
 "nbformat_minor": 2
}
